{
  "nbformat": 4,
  "nbformat_minor": 0,
  "metadata": {
    "colab": {
      "provenance": [],
      "gpuType": "T4",
      "collapsed_sections": [
        "8SSWFgCtiE1u",
        "pT0VMCJs3tLo",
        "5djjqebaiN9Q",
        "lbMoJnm1HUXs",
        "zssu4bqOHe17",
        "W_KX65VbuZQ0",
        "-ek6vuNcjviu"
      ],
      "mount_file_id": "1AQCnpR2bU0bczVM_OsVR0Gi0k7qyOOtd",
      "authorship_tag": "ABX9TyObyZ7DCYFJ7rB8HaIUL4g2",
      "include_colab_link": true
    },
    "kernelspec": {
      "name": "python3",
      "display_name": "Python 3"
    },
    "language_info": {
      "name": "python"
    }
  },
  "cells": [
    {
      "cell_type": "markdown",
      "metadata": {
        "id": "view-in-github",
        "colab_type": "text"
      },
      "source": [
        "<a href=\"https://colab.research.google.com/github/Ritwik-1/Fine-Tune-SAM/blob/master/SAM_fine_tune.ipynb\" target=\"_parent\"><img src=\"https://colab.research.google.com/assets/colab-badge.svg\" alt=\"Open In Colab\"/></a>"
      ]
    },
    {
      "cell_type": "code",
      "source": [
        "pip install git+https://github.com/facebookresearch/segment-anything.git"
      ],
      "metadata": {
        "id": "mmYELxINos9R"
      },
      "execution_count": null,
      "outputs": []
    },
    {
      "cell_type": "markdown",
      "source": [
        "# FINE TUNE APPROACH 1 "
      ],
      "metadata": {
        "id": "8SSWFgCtiE1u"
      }
    },
    {
      "cell_type": "code",
      "source": [
        "from segment_anything import SamAutomaticMaskGenerator, sam_model_registry\n",
        "\n",
        "model_checkpoint = \"/content/drive/MyDrive/Colab Notebooks/assets/sam_vit_h_4b8939.pth\"\n",
        "model_type = \"vit_h\"\n",
        "sam = sam_model_registry[model_type](checkpoint = model_checkpoint)\n"
      ],
      "metadata": {
        "id": "k7JR51Nxo-_k"
      },
      "execution_count": null,
      "outputs": []
    },
    {
      "cell_type": "markdown",
      "source": [
        "**FREEZING ALL IMAGE ENCODER PARAMS**"
      ],
      "metadata": {
        "id": "G6ggDjH2g_qK"
      }
    },
    {
      "cell_type": "code",
      "source": [
        "print(type(sam))\n",
        "\n",
        "# Freezed all the Image encoder parameters \n",
        "for param in sam.image_encoder.parameters():\n",
        "    param.requires_grad = False"
      ],
      "metadata": {
        "colab": {
          "base_uri": "https://localhost:8080/"
        },
        "id": "nZuPZHAAr9hD",
        "outputId": "63738b8f-4459-4304-9952-7656b80cfb8e"
      },
      "execution_count": null,
      "outputs": [
        {
          "output_type": "stream",
          "name": "stdout",
          "text": [
            "<class 'segment_anything.modeling.sam.Sam'>\n"
          ]
        }
      ]
    },
    {
      "cell_type": "markdown",
      "source": [
        "PARAMS IN PROMPT ENCODER"
      ],
      "metadata": {
        "id": "eLpccexvhM7R"
      }
    },
    {
      "cell_type": "code",
      "source": [
        "# IDEA : FREEZE THE POINT AND TEXT PROMPTS \n",
        "# BUT WHOLE MODULE HAS SUCH LESS PARAMS \n",
        "\n",
        "prompt_params = 0\n",
        "\n",
        "for name,param in sam.prompt_encoder.named_parameters():\n",
        "    # print(name)\n",
        "    # print(param)\n",
        "    prompt_params += param.numel()\n",
        "\n",
        "print(prompt_params)\n",
        "\n",
        "# Bas 6220?\n"
      ],
      "metadata": {
        "colab": {
          "base_uri": "https://localhost:8080/"
        },
        "id": "nUBqgvTybVLy",
        "outputId": "f91e2c09-eeb8-4bb2-e75d-3d6da3a86236"
      },
      "execution_count": null,
      "outputs": [
        {
          "output_type": "stream",
          "name": "stdout",
          "text": [
            "6220\n"
          ]
        }
      ]
    },
    {
      "cell_type": "markdown",
      "source": [
        "PARAMS IN IMAGE ENCODER"
      ],
      "metadata": {
        "id": "BxGbQpwxhRXS"
      }
    },
    {
      "cell_type": "code",
      "source": [
        "image_params = 0\n",
        "\n",
        "for name,param in sam.image_encoder.named_parameters():\n",
        "    # print(name)\n",
        "    # print(param)\n",
        "    image_params += param.numel()\n",
        "\n",
        "print(image_params)\n"
      ],
      "metadata": {
        "colab": {
          "base_uri": "https://localhost:8080/"
        },
        "id": "5jhp31vOgz0M",
        "outputId": "5f3ab0a5-48aa-4c3f-8c60-ca9accf54d98"
      },
      "execution_count": null,
      "outputs": [
        {
          "output_type": "stream",
          "name": "stdout",
          "text": [
            "637026048\n"
          ]
        }
      ]
    },
    {
      "cell_type": "markdown",
      "source": [
        "PARAMS IN MASK DECODER"
      ],
      "metadata": {
        "id": "irMdMfdWhTsw"
      }
    },
    {
      "cell_type": "code",
      "source": [
        "mask_params = 0\n",
        "\n",
        "for name,param in sam.mask_decoder.named_parameters():\n",
        "    # print(name)\n",
        "    # print(param)\n",
        "    mask_params += param.numel()\n",
        "\n",
        "print(mask_params)"
      ],
      "metadata": {
        "colab": {
          "base_uri": "https://localhost:8080/"
        },
        "id": "SG6BipvNhYd5",
        "outputId": "2080bf61-3b18-4429-c5e4-7b6ad6938d16"
      },
      "execution_count": null,
      "outputs": [
        {
          "output_type": "stream",
          "name": "stdout",
          "text": [
            "4058340\n"
          ]
        }
      ]
    },
    {
      "cell_type": "code",
      "source": [
        "trainable_params = 0\n",
        "non_trainable_params = 0\n",
        "\n",
        "# parameters are tensors , for getting actual no. of parameters we need to \n",
        "# count the no. of elements in each tensor \n",
        "# which is done using numel() function\n",
        "\n",
        "for i in sam.parameters():\n",
        "    if(i.requires_grad == False):\n",
        "        # print(name)\n",
        "        non_trainable_params+=i.numel()\n",
        "    else:\n",
        "        trainable_params+=i.numel()\n",
        "\n",
        "print(\"Trainable params : \",trainable_params)\n",
        "print(\"Non-trainable params : \",non_trainable_params)"
      ],
      "metadata": {
        "colab": {
          "base_uri": "https://localhost:8080/"
        },
        "id": "OG_UZozqgpak",
        "outputId": "a7a274a5-3521-46e4-aea6-d00a4895db08"
      },
      "execution_count": null,
      "outputs": [
        {
          "output_type": "stream",
          "name": "stdout",
          "text": [
            "Trainable params :  4064560\n",
            "Non-trainable params :  637026048\n"
          ]
        }
      ]
    },
    {
      "cell_type": "markdown",
      "source": [
        "**TO ADD MORE MLP LAYERS TO THE MASK DECODER**"
      ],
      "metadata": {
        "id": "Ap3L6WUFh2y9"
      }
    },
    {
      "cell_type": "code",
      "source": [
        "# for name,param in sam.mask_decoder.named_parameters():\n",
        "#     print(name)\n",
        "\n",
        "for name,param in sam.mask_decoder.named_parameters():\n",
        "  #  if(name == 'MLP'):\n",
        "      print(name)\n"
      ],
      "metadata": {
        "id": "eLr0vOOEbeHo"
      },
      "execution_count": null,
      "outputs": []
    },
    {
      "cell_type": "code",
      "source": [
        "for name in sam.mask_decoder.children():\n",
        "  #  if(name == 'MLP'):\n",
        "      print(name)\n"
      ],
      "metadata": {
        "id": "c1RRTNQKqzo1"
      },
      "execution_count": null,
      "outputs": []
    },
    {
      "cell_type": "code",
      "source": [
        "for i in range(4):\n",
        "  for j in range(3):\n",
        "     print(sam.mask_decoder.output_hypernetworks_mlps[i].layers[j].weight.shape)\n",
        "     print(sam.mask_decoder.output_hypernetworks_mlps[i].layers[j].bias.shape)\n",
        "     print(\"lol\")"
      ],
      "metadata": {
        "id": "h26aoYWIPJtj"
      },
      "execution_count": null,
      "outputs": []
    },
    {
      "cell_type": "code",
      "source": [
        "# Adding another MLP to the IoU prediction \n",
        "\n",
        "# DO NOT RUN AGAIN\n",
        "\n",
        "import torch.nn as nn\n",
        "\n",
        "additional_layer2 = nn.Linear(in_features=256, out_features=256,bias = True)\n",
        "\n",
        "sam.mask_decoder.iou_prediction_head.layers.insert(1,additional_layer2)"
      ],
      "metadata": {
        "id": "rVEdseRErUb0"
      },
      "execution_count": null,
      "outputs": []
    },
    {
      "cell_type": "code",
      "source": [
        "for name in sam.mask_decoder.children():\n",
        "      print(name)"
      ],
      "metadata": {
        "id": "qxToQNXpQ_Hi"
      },
      "execution_count": null,
      "outputs": []
    },
    {
      "cell_type": "code",
      "source": [
        "# Checking dimensions again :\n",
        "for i in range(4):\n",
        "     print(sam.mask_decoder.iou_prediction_head.layers[i].weight.shape)\n",
        "     print(sam.mask_decoder.iou_prediction_head.layers[i].bias.shape)\n",
        "     print(\"lol\")"
      ],
      "metadata": {
        "id": "tOeePb3gShr0"
      },
      "execution_count": null,
      "outputs": []
    },
    {
      "cell_type": "code",
      "source": [
        "# ADDING MLPs to THE OUTPUT_HYPERNETWORKS MLP MODULE\n",
        "\n",
        "# DO NOT RUN AGAIN \n",
        "\n",
        "module = sam.mask_decoder.output_hypernetworks_mlps\n",
        "\n",
        "for i in range(4):\n",
        "    lin_layer = nn.Linear(in_features=256, out_features=256,bias = True)\n",
        "    module[i].layers.insert(1,lin_layer)\n",
        "\n",
        "print(module)"
      ],
      "metadata": {
        "id": "rGM1RMVHxiu8"
      },
      "execution_count": null,
      "outputs": []
    },
    {
      "cell_type": "code",
      "source": [
        "for name in sam.mask_decoder.children():\n",
        "      print(name)"
      ],
      "metadata": {
        "id": "XSs6Mh0wTOdY"
      },
      "execution_count": null,
      "outputs": []
    },
    {
      "cell_type": "code",
      "source": [
        "for i in range(4):\n",
        "  for j in range(4):\n",
        "     if(j == 2):\n",
        "      print(\"This is added layer\")\n",
        "     print(sam.mask_decoder.output_hypernetworks_mlps[i].layers[j].weight.shape)\n",
        "     print(sam.mask_decoder.output_hypernetworks_mlps[i].layers[j].bias.shape)"
      ],
      "metadata": {
        "id": "IBLAKZoaTRYZ"
      },
      "execution_count": null,
      "outputs": []
    },
    {
      "cell_type": "code",
      "source": [
        "# SAVING THE MODEL IN THIS CONFIGURATION\n",
        "\n",
        "# i.e 1) Image encoder is freezed \n",
        "    # 2) added 1 more MLP layer to the final output predictions\n",
        "\n",
        "  # for now\n",
        "\n",
        "  # Now moving to training\n",
        "\n",
        "import torch\n",
        "\n",
        "torch.save(sam,'/content/drive/MyDrive/SAM_FT1/sam.pt')\n",
        "\n",
        "# torch.save(sam.state_dict(), '/content/drive/MyDrive/SAM_FT1/sam.pth')"
      ],
      "metadata": {
        "id": "qE3b9CKj0dVg"
      },
      "execution_count": null,
      "outputs": []
    },
    {
      "cell_type": "markdown",
      "source": [
        "# START RUNNING HERE\n"
      ],
      "metadata": {
        "id": "pT0VMCJs3tLo"
      }
    },
    {
      "cell_type": "code",
      "source": [
        "# Loading the model\n",
        "import torch\n",
        "sam_loaded = torch.load('/content/drive/MyDrive/SAM_FT1/sam.pt')\n"
      ],
      "metadata": {
        "id": "cC9BEnZPb02a"
      },
      "execution_count": null,
      "outputs": []
    },
    {
      "cell_type": "code",
      "source": [
        "from segment_anything import SamAutomaticMaskGenerator, sam_model_registry\n",
        "\n",
        "model_checkpoint = \"/content/drive/MyDrive/Colab Notebooks/assets/sam_vit_h_4b8939.pth\"\n",
        "model_type = \"vit_h\"\n",
        "sam_original = sam_model_registry[model_type](checkpoint = model_checkpoint)"
      ],
      "metadata": {
        "id": "uCpBtTdLgMw4"
      },
      "execution_count": null,
      "outputs": []
    },
    {
      "cell_type": "code",
      "source": [
        "import torch \n",
        "from segment_anything import SamPredictor\n",
        "\n",
        "# device = \"cuda\"\n",
        "\n",
        "# sam_loaded.to(device=device)\n",
        "\n",
        "# sam_original.to(device = device)\n",
        "\n",
        "predictor_loaded = SamPredictor(sam_loaded)\n",
        "\n",
        "predictor_original = SamPredictor(sam_original)\n",
        "# Now take only 1 patient and make 1 train and one label"
      ],
      "metadata": {
        "id": "TayZrkQT1xVF"
      },
      "execution_count": null,
      "outputs": []
    },
    {
      "cell_type": "markdown",
      "source": [
        "# PYDICOM INSTALL"
      ],
      "metadata": {
        "id": "5djjqebaiN9Q"
      }
    },
    {
      "cell_type": "code",
      "source": [
        "from google.colab.patches import cv2_imshow"
      ],
      "metadata": {
        "id": "QAPKlFTMNkJZ"
      },
      "execution_count": 1,
      "outputs": []
    },
    {
      "cell_type": "code",
      "source": [
        "pip install pydicom"
      ],
      "metadata": {
        "colab": {
          "base_uri": "https://localhost:8080/"
        },
        "id": "xZvmUvDJLv3h",
        "outputId": "2df6012f-373e-489c-dde7-a6ddbbe50b98"
      },
      "execution_count": 2,
      "outputs": [
        {
          "output_type": "stream",
          "name": "stdout",
          "text": [
            "Looking in indexes: https://pypi.org/simple, https://us-python.pkg.dev/colab-wheels/public/simple/\n",
            "Collecting pydicom\n",
            "  Downloading pydicom-2.3.1-py3-none-any.whl (2.0 MB)\n",
            "\u001b[2K     \u001b[90m━━━━━━━━━━━━━━━━━━━━━━━━━━━━━━━━━━━━━━━━\u001b[0m \u001b[32m2.0/2.0 MB\u001b[0m \u001b[31m52.8 MB/s\u001b[0m eta \u001b[36m0:00:00\u001b[0m\n",
            "\u001b[?25hInstalling collected packages: pydicom\n",
            "Successfully installed pydicom-2.3.1\n"
          ]
        }
      ]
    },
    {
      "cell_type": "markdown",
      "source": [
        "# RUNNING ON ONLY 1 EXAMPLE"
      ],
      "metadata": {
        "id": "lbMoJnm1HUXs"
      }
    },
    {
      "cell_type": "markdown",
      "source": [
        "**Trying to run on 1 image/label first**"
      ],
      "metadata": {
        "id": "O1x6bmQVk_z-"
      }
    },
    {
      "cell_type": "code",
      "source": [
        "import cv2\n",
        "import pydicom\n",
        "import matplotlib.pyplot as plt\n",
        "\n",
        "# First patient ki 35th slice of CT\n",
        "test_image = \"/content/drive/MyDrive/manifest-1680809675630/Adrenal-ACC-Ki67-Seg/Adrenal_Ki67_Seg_001/08-22-2000-NA-CT ABDOMEN-56266/2.000000-Pre Abd 5.0 B40f-18492/1-35.dcm\"\n",
        "\n",
        "# Taking the 35th segmentation from this\n",
        "label_seg = \"/content/drive/MyDrive/manifest-1680809675630/Adrenal-ACC-Ki67-Seg/Adrenal_Ki67_Seg_001/08-22-2000-NA-CT ABDOMEN-56266/300.000000-Segmentation-33545/1-1.dcm\"\n",
        "\n",
        "\n",
        "dicom_image = pydicom.dcmread(test_image)\n",
        "pixel_data = dicom_image.pixel_array\n",
        "\n",
        "\n",
        "plt.imshow(pixel_data, cmap='gray')\n",
        "plt.axis('off')  \n",
        "plt.show()\n",
        "\n",
        "dicom_image_labels = pydicom.dcmread(label_seg)\n",
        "pixel_data_labels = dicom_image_labels.pixel_array\n",
        "\n",
        "plt.imshow(pixel_data_labels[35], cmap='gray')\n",
        "plt.axis('off') \n",
        "plt.show()\n",
        "\n",
        "print(type(pixel_data_labels))\n",
        "print(pixel_data_labels.shape)\n",
        "print(pixel_data_labels[35].shape)\n",
        "\n"
      ],
      "metadata": {
        "colab": {
          "base_uri": "https://localhost:8080/",
          "height": 847
        },
        "id": "OkrRRGLXiGc3",
        "outputId": "7ae6fe2c-6d12-4d6e-a670-27eedb2c4cad"
      },
      "execution_count": null,
      "outputs": [
        {
          "output_type": "display_data",
          "data": {
            "text/plain": [
              "<Figure size 640x480 with 1 Axes>"
            ],
            "image/png": "[encoded data removed]"
          },
          "metadata": {}
        },
        {
          "output_type": "display_data",
          "data": {
            "text/plain": [
              "<Figure size 640x480 with 1 Axes>"
            ],
            "image/png": "[encoded data removed]"
          },
          "metadata": {}
        },
        {
          "output_type": "stream",
          "name": "stdout",
          "text": [
            "<class 'numpy.ndarray'>\n",
            "(61, 512, 512)\n",
            "(512, 512)\n"
          ]
        }
      ]
    },
    {
      "cell_type": "markdown",
      "source": [
        "**SEEING SHAPES OF BOTH THE IMAGES**"
      ],
      "metadata": {
        "id": "v6avAXS-lXsY"
      }
    },
    {
      "cell_type": "code",
      "source": [
        "test_CT_image = pixel_data\n",
        "label_CT_seg = pixel_data_labels[35]\n",
        "\n",
        "print(test_CT_image.shape)\n",
        "print(label_CT_seg.shape)"
      ],
      "metadata": {
        "colab": {
          "base_uri": "https://localhost:8080/"
        },
        "id": "qwADGgEglKuK",
        "outputId": "2df0ed0c-06b7-4d9b-9924-50d01ff8dce5"
      },
      "execution_count": null,
      "outputs": [
        {
          "output_type": "stream",
          "name": "stdout",
          "text": [
            "(512, 512)\n",
            "(512, 512)\n"
          ]
        }
      ]
    },
    {
      "cell_type": "markdown",
      "source": [
        "**GETTING THE BOUNDING BOX OF THE SEG\n",
        "IN THE 512x512 plane**"
      ],
      "metadata": {
        "id": "Ti4lA8j_lvC2"
      }
    },
    {
      "cell_type": "code",
      "source": [
        "import cv2\n",
        "import numpy as np\n",
        "import matplotlib.pyplot as plt\n",
        "\n",
        "threshold = 0  # Choose an appropriate threshold value\n",
        "binary_mask = (label_CT_seg > threshold).astype(np.uint8)\n",
        "\n",
        "# Find contours of the binary mask\n",
        "contours, _ = cv2.findContours(binary_mask, cv2.RETR_EXTERNAL, cv2.CHAIN_APPROX_SIMPLE)\n",
        "\n",
        "# Create a blank 512x512 plane\n",
        "plane = np.zeros((512, 512), dtype=np.uint8)\n",
        "\n",
        "# Iterate over the contours and compute the bounding box coordinates\n",
        "bounding_boxes = []\n",
        "for contour in contours:\n",
        "    x, y, w, h = cv2.boundingRect(contour)\n",
        "    bounding_boxes.append((x, y, x + w, y + h))\n",
        "    \n",
        "    # Plot the bounding box on the plane\n",
        "    cv2.rectangle(plane, (x, y), (x + w, y + h), (255, 255, 255), 1)\n",
        "\n",
        "# Plot the plane with bounding boxes\n",
        "plt.imshow(plane, cmap='gray')\n",
        "plt.axis('off')\n",
        "plt.show()\n",
        "\n",
        "\n",
        "print(bounding_boxes)"
      ],
      "metadata": {
        "colab": {
          "base_uri": "https://localhost:8080/",
          "height": 423
        },
        "id": "HppwEJB_ltK1",
        "outputId": "74d229ba-6c62-4f86-d6e3-eb8f5d977ffd"
      },
      "execution_count": null,
      "outputs": [
        {
          "output_type": "display_data",
          "data": {
            "text/plain": [
              "<Figure size 640x480 with 1 Axes>"
            ],
            "image/png": "[encoded data removed]"
          },
          "metadata": {}
        },
        {
          "output_type": "stream",
          "name": "stdout",
          "text": [
            "[(135, 201, 220, 319)]\n"
          ]
        }
      ]
    },
    {
      "cell_type": "code",
      "source": [
        "# Now have the box , image , can produce the mask and also have the label can calc loss\n",
        "\n",
        "import cv2\n",
        "import numpy as np\n",
        "\n",
        "image_jpg = cv2.cvtColor(test_CT_image, cv2.COLOR_RGB2BGR)  # Convert RGB to BGR (OpenCV default format)\n",
        "cv2.imwrite('image.jpg', image_jpg)  # Save the JPEG image\n",
        "\n",
        "# Read JPEG image and convert it back to NumPy array\n",
        "image_loaded = cv2.imread('image.jpg')  # Read the JPEG image\n",
        "image_np_loaded = cv2.cvtColor(image_loaded, cv2.COLOR_BGR2RGB)  # Convert BGR to RGB\n",
        "\n",
        "test_CT_image = image_np_loaded"
      ],
      "metadata": {
        "id": "3iiLmfxum_4s"
      },
      "execution_count": null,
      "outputs": []
    },
    {
      "cell_type": "code",
      "source": [
        "predictor_original.set_image(test_CT_image)"
      ],
      "metadata": {
        "id": "LanUZCeq4nAw"
      },
      "execution_count": null,
      "outputs": []
    },
    {
      "cell_type": "code",
      "source": [
        "def show_mask(mask, ax, random_color=False):\n",
        "    if random_color:\n",
        "        color = np.concatenate([np.random.random(3), np.array([0.6])], axis=0)\n",
        "    else:\n",
        "        color = np.array([30/255, 144/255, 255/255, 0.6])\n",
        "    h, w = mask.shape[-2:]\n",
        "    mask_image = mask.reshape(h, w, 1) * color.reshape(1, 1, -1)\n",
        "    ax.imshow(mask_image)\n",
        "    return mask_image "
      ],
      "metadata": {
        "id": "lldTpHTwFtji"
      },
      "execution_count": null,
      "outputs": []
    },
    {
      "cell_type": "code",
      "source": [
        "input_box = np.array(bounding_boxes[0])\n",
        "\n",
        "masks, _, _ = predictor_original.predict(\n",
        "    point_coords=None,\n",
        "    point_labels=None,\n",
        "    box=input_box[None, :],\n",
        "    multimask_output=False,\n",
        ")\n",
        "\n",
        "print(type(masks))\n",
        "\n",
        "print(masks[0])\n",
        "\n",
        "print(masks[0].shape)\n",
        "\n",
        "mask_image = show_mask(masks[0], plt.gca())\n",
        "\n",
        "print(\"---------------------------------------\")\n",
        "print(mask_image)\n",
        "print(mask_image.shape)\n",
        "ax = plt.gca()\n",
        "ax.imshow(masks[0])\n",
        "\n"
      ],
      "metadata": {
        "id": "TkSnaiPiDdAE"
      },
      "execution_count": null,
      "outputs": []
    },
    {
      "cell_type": "code",
      "source": [
        "# now loss is between masks[0] and pixel_data_labels[35]\n",
        "\n",
        "# CONVERSION TO FLOAT32 AND CONVERTING TRUE TO 0 and 1s \n",
        "\n",
        "mask_int = masks[0].astype(int)\n",
        "mask_float = masks[0].astype(\"float32\")\n",
        "\n",
        "pixel_data_labels_float = pixel_data_labels[35].astype(\"float32\")\n",
        "\n",
        "print(mask_float)\n",
        "print(pixel_data_labels_float)\n",
        "\n",
        "print(mask_float.shape)\n",
        "print(pixel_data_labels_float.shape)"
      ],
      "metadata": {
        "id": "uwi8_c-XzWKS"
      },
      "execution_count": null,
      "outputs": []
    },
    {
      "cell_type": "code",
      "source": [
        "# loss calculation between mask and this output dekhna padega \n",
        "import torch.nn.functional as F\n",
        "import torch\n",
        "\n",
        "t1 = torch.from_numpy(mask_float)                    # output\n",
        "t2 = torch.from_numpy(pixel_data_labels_float)         # label\n",
        "\n",
        "print(t1.shape)\n",
        "print(t2.shape)\n",
        "\n",
        "\n",
        "intersection = (t1 * t2).sum().item()\n",
        "union = t1.sum().item() + t2.sum().item()\n",
        "\n",
        "dice_coefficient = (2.0 * intersection) / (union + 1e-8)  # Adding a small constant to avoid division by zero\n",
        "\n",
        "print(dice_coefficient)\n"
      ],
      "metadata": {
        "colab": {
          "base_uri": "https://localhost:8080/"
        },
        "id": "PkWvKny8IxJe",
        "outputId": "d8e9c283-40aa-4226-c3a7-aa60d5fabf5b"
      },
      "execution_count": null,
      "outputs": [
        {
          "output_type": "stream",
          "name": "stdout",
          "text": [
            "torch.Size([512, 512])\n",
            "torch.Size([512, 512])\n",
            "0.8474323704717747\n"
          ]
        }
      ]
    },
    {
      "cell_type": "markdown",
      "source": [
        "# START OF FULL DATASET CREATION"
      ],
      "metadata": {
        "id": "zssu4bqOHe17"
      }
    },
    {
      "cell_type": "markdown",
      "source": [
        "POINTS FOR FULL DATASET \n",
        "\n",
        "-> Train_set_X \n",
        "   images = a vector \n",
        "   first 120 = patient 1 \n",
        "   next 120 = patient 2\n",
        "   and so on\n",
        "   image ko dicom se jpg\n",
        "   mai karna hai and then to \n",
        "   numpy array \n",
        "\n",
        "-> bounding_boxes = a vector\n",
        "   bb[i] is bb for images[i]\n",
        "   how to calculate , make a\n",
        "   function image jayegi and\n",
        "   BB return karegi and then \n",
        "   append bb[0] to array\n",
        "\n",
        "-> labels = a vector\n",
        "   labels[i] correspond to label\n",
        "   for images[i]\n",
        "   512x512 ka seg mask directly daaldo\n",
        "   after convert to float32\n",
        "\n",
        "-> NOW TRAINING,\n",
        "   output of SAM is a mask \n",
        "   Take mask[0] then it is 512x512\n",
        "   convert to float32\n",
        "   and then compare that with label\n",
        "   loss = loss_fn(output,label) \n",
        "    \n",
        "   ese training loop done \n",
        "\n",
        "  -> OUTPUT OF SAM IS A MASK WITH TRUE AND FALSE\n",
        "     WE HAVE TO CONVERT IT TO 0 and 1 and also \n",
        "     to float32 for the dice_loss to work\n"
      ],
      "metadata": {
        "id": "P8aavKj21oU9"
      }
    },
    {
      "cell_type": "code",
      "source": [
        "import pydicom\n",
        "import numpy as np\n",
        "import cv2\n",
        "import matplotlib.pyplot as plt"
      ],
      "metadata": {
        "id": "6S4nocoLvW9j"
      },
      "execution_count": 4,
      "outputs": []
    },
    {
      "cell_type": "code",
      "source": [
        "# label_CT_seg is the 512x512 seg map tensor for the tumour\n",
        "\n",
        "def getBoundingBox(label_CT_seg):\n",
        "    import cv2\n",
        "    import numpy as np\n",
        "    import matplotlib.pyplot as plt\n",
        "    threshold = 0  # Choose an appropriate threshold value\n",
        "    binary_mask = (label_CT_seg > threshold).astype(np.uint8)\n",
        "\n",
        "    # Find contours of the binary mask\n",
        "    contours, _ = cv2.findContours(binary_mask, cv2.RETR_EXTERNAL, cv2.CHAIN_APPROX_SIMPLE)\n",
        "\n",
        "    # Create a blank 512x512 plane\n",
        "    plane = np.zeros((512, 512), dtype=np.uint8)\n",
        "\n",
        "    # Iterate over the contours and compute the bounding box coordinates\n",
        "    bounding_boxes = []\n",
        "    for contour in contours:\n",
        "        x, y, w, h = cv2.boundingRect(contour)\n",
        "        bounding_boxes.append((x, y, x + w, y + h))\n",
        "        \n",
        "        # Plot the bounding box on the plane\n",
        "        cv2.rectangle(plane, (x, y), (x + w, y + h), (255, 255, 255), 1)\n",
        "\n",
        "    return bounding_boxes \n",
        "    # # Plot the plane with bounding boxes\n",
        "    # plt.imshow(plane, cmap='gray')\n",
        "    # plt.axis('off')\n",
        "    # plt.show()"
      ],
      "metadata": {
        "id": "_bV0E1-vuJ6X"
      },
      "execution_count": 3,
      "outputs": []
    },
    {
      "cell_type": "code",
      "source": [
        "# Load the DICOM file\n",
        "dcm = pydicom.dcmread(\"/content/drive/MyDrive/Colab Notebooks/assets/Patient-1-seg.dcm\")\n",
        "\n",
        "# Extract the pixel data\n",
        "pixel_array = dcm.pixel_array\n",
        "\n",
        "print(pixel_array.shape)\n",
        "\n",
        "p = pixel_array[28]  # Extract the first channel\n",
        "\n",
        "print(p.shape)\n",
        "\n",
        "normalized_array = ((p - np.min(p)) / np.ptp(p) * 255).astype(np.uint8)\n",
        "bgr_image = cv2.cvtColor(normalized_array, cv2.COLOR_GRAY2BGR)\n",
        "\n",
        "cv2_imshow(bgr_image)\n",
        "# Normalize the pixel values\n",
        "# normalized_array = ((pixel_array - np.min(pixel_array)) / np.ptp(pixel_array) * 255).astype(np.uint8)\n",
        "\n",
        "# # Convert to BGR format (assuming the segmentation map is grayscale)\n",
        "# bgr_image = cv2.cvtColor(normalized_array, cv2.COLOR_GRAY2BGR)"
      ],
      "metadata": {
        "id": "zhmknsKLgZjb"
      },
      "execution_count": null,
      "outputs": []
    },
    {
      "cell_type": "code",
      "source": [
        "import pydicom\n",
        "\n",
        "# Load the DICOM image\n",
        "# dcm = pydicom.dcmread(\"/content/drive/MyDrive/Colab Notebooks/assets/1-25.dcm\")\n",
        "\n",
        "dcm_2 = pydicom.dcmread(\"/content/drive/MyDrive/manifest-1680809675630/Adrenal-ACC-Ki67-Seg/Adrenal_Ki67_Seg_039/02-08-2010-NA-CT Abdomen-18373/300.000000-Segmentation-78069/1-1.dcm\")\n",
        "# Get the pixel data\n",
        "# pixels = dcm.pixel_array\n",
        "p = dcm_2.pixel_array\n",
        "\n",
        "print(p.shape)\n",
        "# print(pixels.shape)\n",
        "\n",
        "# # Display the image using matplotlib\n",
        "# plt.imshow(pixels, cmap=plt.cm.gray)\n",
        "# plt.imshow(p[36], cmap='jet', alpha=0.05) # interpolation='none'\n",
        "# plt.show()\n",
        "\n"
      ],
      "metadata": {
        "colab": {
          "base_uri": "https://localhost:8080/"
        },
        "id": "97_LrFd3QFU5",
        "outputId": "352a40d3-aee6-47c6-ccc8-7cd8c74df47e"
      },
      "execution_count": null,
      "outputs": [
        {
          "output_type": "stream",
          "name": "stdout",
          "text": [
            "(56, 512, 512)\n"
          ]
        }
      ]
    },
    {
      "cell_type": "markdown",
      "source": [
        "**COLORECTAL CANCER DATASET LOADING**"
      ],
      "metadata": {
        "id": "KAbdJZsCvJyV"
      }
    },
    {
      "cell_type": "markdown",
      "source": [
        "HERE PROBLEM IS PATIENT 1 HAS MORE SEG MAPS THAN CT SLICES "
      ],
      "metadata": {
        "id": "chbO-62P5ONJ"
      }
    },
    {
      "cell_type": "code",
      "source": [
        "# SEGMENTATION FILE FOR PATIENT 1 WHO HAS 161 slices of CT but 439 segmentations ????????????\n",
        "\n",
        "dcm = pydicom.dcmread(\"/content/drive/MyDrive/manifest-1669817128730(Colorectal)/Colorectal-Liver-Metastases/CRLM-CT-1001/06-06-1992-NA-CT ANGIO ABD WITH PEL-75163/100.000000-Segmentation-46600/1-1.dcm\")\n",
        "pixels = dcm.pixel_array\n",
        "print(pixels.shape)\n",
        "\n",
        "# dcm_images = pydicom.dcmread()\n",
        "# pixels_images = dcm_images.pixel_array\n",
        "\n",
        "n_images_patient1 = len(os.listdir('/content/drive/MyDrive/manifest-1669817128730(Colorectal)/Colorectal-Liver-Metastases/CRLM-CT-1001/06-06-1992-NA-CT ANGIO ABD WITH PEL-75163/101.000000-NA-71548'))\n",
        "print(\"No. of images for patient 1  : \",n_images_patient1)\n",
        "print(\"No. of segmentations for patient 1 : \",pixels.shape[0])\n",
        "\n",
        "for i in range(pixels.shape[0]):\n",
        "    plt.figure()\n",
        "    plt.imshow(pixels[i], cmap='gray')\n",
        "    plt.title(f\"Segmentation Map {i+1}\")\n",
        "    plt.axis('off')\n",
        "    plt.show()"
      ],
      "metadata": {
        "id": "4m-zfb49xbbd"
      },
      "execution_count": null,
      "outputs": []
    },
    {
      "cell_type": "markdown",
      "source": [
        "YE FINALLY USE HONGE TRAINING MAI"
      ],
      "metadata": {
        "id": "qmW7MTBq73An"
      }
    },
    {
      "cell_type": "code",
      "source": [
        "CT_Images = []\n",
        "Bounding_Boxes = []\n",
        "Seg_Labels = []"
      ],
      "metadata": {
        "id": "m2ksCZIzv27v"
      },
      "execution_count": 9,
      "outputs": []
    },
    {
      "cell_type": "markdown",
      "source": [
        "THIS IS DATASET SORTING USING OS MODULE"
      ],
      "metadata": {
        "id": "wixwBlXY77Ry"
      }
    },
    {
      "cell_type": "code",
      "source": [
        "import os\n",
        "\n",
        "# local drive directory containing all patient files\n",
        "patients_dir = \"/content/drive/MyDrive/manifest-1669817128730(Colorectal)/Colorectal-Liver-Metastases\"\n",
        "\n",
        "os.chdir(patients_dir)\n",
        "\n",
        "patients = os.listdir(patients_dir)\n",
        "patients = patients[::-1]\n",
        "patients.pop()\n",
        "\n",
        "total_images = 0\n",
        "total_segs = 0\n",
        "total_patients = 0\n",
        "\n",
        "for patient in patients:\n",
        "    total_patients += 1\n",
        "   # Now we are in patient say CRLM-CT-1001\n",
        "    \n",
        "    # CT_mode is the only folder(which contains further files) in the patient folder\n",
        "    CT_mode = os.listdir(os.path.join(patients_dir,patient))\n",
        "    \n",
        "    patient_path = os.path.join(patients_dir,patient)\n",
        "\n",
        "    patient_files_folders = os.listdir(os.path.join(patient_path,CT_mode[0]))\n",
        "    # Now patient_files_folders[0] must be CT images\n",
        "    # and patient_files_folders[1] must be masks\n",
        "    \n",
        "    CT_mode_path = os.path.join(patient_path,CT_mode[0])\n",
        "\n",
        "    patient_seg_path = os.path.join(CT_mode_path,patient_files_folders[1])\n",
        "    patient_images_path = os.path.join(CT_mode_path,patient_files_folders[0])\n",
        "    \n",
        "    # patient_seg is a vector which contains all patient segmentations(1 patient only)\n",
        "    patient_seg = os.listdir(patient_seg_path)\n",
        "\n",
        "    #patient CT_images contains all the patient CT_images (1 patient only)\n",
        "    patient_CT_images = os.listdir(patient_images_path)\n",
        "\n",
        "    total_images += len(patient_CT_images)\n",
        "    total_segs += len(patient_seg)\n",
        "\n",
        "print(\"Total patients : \",total_patients)\n",
        "print(\"Total Images : \",total_images)\n",
        "print(\"Total_segmentation_files : \",total_segs)\n",
        "\n",
        " "
      ],
      "metadata": {
        "id": "DDo3xxX6bvX3",
        "colab": {
          "base_uri": "https://localhost:8080/"
        },
        "outputId": "cbf39a19-8bb7-4e19-d6b2-06a0b3dbcab6"
      },
      "execution_count": 21,
      "outputs": [
        {
          "output_type": "stream",
          "name": "stdout",
          "text": [
            "Total patients :  197\n",
            "Total Images :  11018\n",
            "Total_segmentation_files :  6819\n"
          ]
        }
      ]
    },
    {
      "cell_type": "markdown",
      "source": [
        "# TRAINING"
      ],
      "metadata": {
        "id": "W_KX65VbuZQ0"
      }
    },
    {
      "cell_type": "markdown",
      "source": [
        "ONLY STRUCTURE , THIS IS TO BE MODIFIED ALOT"
      ],
      "metadata": {
        "id": "92Z73QEJjuOR"
      }
    },
    {
      "cell_type": "code",
      "source": [
        "def dice_loss(pred, target):\n",
        "    intersection = (pred * target).sum()\n",
        "    dice_coef = (2.0 * intersection) / (pred.sum() + target.sum() + 1e-8)  \n",
        "    return 1 - dice_coef"
      ],
      "metadata": {
        "id": "XIzc94nygZlQ"
      },
      "execution_count": null,
      "outputs": []
    },
    {
      "cell_type": "markdown",
      "source": [
        "This is the function which would produce outputs for a batch using \n",
        "SAM modified model"
      ],
      "metadata": {
        "id": "ww9-w0Ke7lea"
      }
    },
    {
      "cell_type": "code",
      "source": [
        "def calculateOutputSAM(sam,images,bounding_boxes,batch_size):\n",
        "    # here all are tensors of size batch_size \n",
        "    # image[i] and bounding_boxes[i] ko sam mai bhejo \n",
        "    # and output nikalo\n",
        "    # sabko vector mai daalo \n",
        "    # tensor banake and return karado \n",
        "    a = 10\n",
        "    b = 20\n",
        "\n",
        "    return a "
      ],
      "metadata": {
        "id": "TQME-PUl6pL8"
      },
      "execution_count": null,
      "outputs": []
    },
    {
      "cell_type": "code",
      "source": [
        "import torch\n",
        "import torch.nn.functional as F\n",
        "\n",
        "device = torch.device('cuda' if torch.cuda.is_available() else 'cpu')\n",
        "\n",
        "# Assume \n",
        "# Train_images = [t1,t2,t3,t4]\n",
        "# Bounding_box_train = [b1,b2,b3,b4]\n",
        "# Train_labels = [l1,l2,l3,l4]\n",
        "\n",
        "# Test_images , Bounding_box_Test , Test_labels \n",
        "# same for validation \n",
        "\n",
        "# We use the AdamW [68] optimizer (β1 =0.9, β2 = 0.999)\n",
        "\n",
        "# The batch size is 256 images\n",
        "\n",
        "# To regularize SAM,\n",
        "# we set weight decay (wd) to 0.1 and apply drop path [53]\n",
        "# (dp) with a rate of 0.4. We use a layer-wise learning rate\n",
        "# decay [5] (ld) of 0.8.\n",
        "\n",
        "#  No data augmentation is applied\n",
        "\n",
        "optimizer = torch.optim.AdamW(\n",
        "    sam_loaded.parameters(),\n",
        "    lr = 8e-4,\n",
        "    betas = (0.9,0.999)\n",
        ")\n",
        "\n",
        "batch_size = 256\n",
        "num_epochs = 10\n",
        "\n",
        "\n",
        "train_images = []\n",
        "bounding_boxes = []\n",
        "segmentation_masks = []\n",
        "\n",
        "# Convert the input vectors to PyTorch tensors\n",
        "train_images_tensor = torch.tensor(train_images, dtype=torch.float32).to(device)\n",
        "bounding_boxes_tensor = torch.tensor(bounding_boxes, dtype=torch.float32).to(device)\n",
        "segmentation_masks_tensor = torch.tensor(segmentation_masks, dtype=torch.float32).to(device)\n",
        "\n",
        "# Combine the input tensors into a single dataset\n",
        "dataset = torch.utils.data.TensorDataset(train_images_tensor, bounding_boxes_tensor, segmentation_masks_tensor)\n",
        "\n",
        "# Create a data loader for batching\n",
        "data_loader = torch.utils.data.DataLoader(dataset, batch_size=batch_size, shuffle=True)\n",
        "\n",
        "# Training loop\n",
        "for epoch in range(num_epochs):\n",
        "    print(f\"Epoch {epoch+1}/{num_epochs}\")\n",
        "    \n",
        "    # Set the model to training mode\n",
        "    sam_loaded.train()\n",
        "\n",
        "    # Variables to track accuracy\n",
        "    correct = 0\n",
        "    total = 0\n",
        "    \n",
        "    # Iterate over the data loader\n",
        "    for batch_idx, (images, bounding_boxes, masks) in enumerate(data_loader):\n",
        "        \n",
        "        # images , bounding_boxes,masks are tensors with \n",
        "        # first dimensions as 256 (batch size)\n",
        "\n",
        "        images = images.to(device)\n",
        "        bounding_boxes = bounding_boxes.to(device)\n",
        "        masks = masks.to(device)\n",
        "        \n",
        "        # Clear the gradients\n",
        "        optimizer.zero_grad()\n",
        "        \n",
        "        outputs = calculateOutputSAM(sam_loaded,images,bounding_boxes,batch_size)\n",
        "        \n",
        "        # Calculate the Dice loss\n",
        "        loss = dice_loss(outputs, masks)\n",
        "        \n",
        "        # Backward pass\n",
        "        loss.backward()\n",
        "        \n",
        "        # Update the model parameters\n",
        "        optimizer.step()\n",
        "\n",
        "        # Calculate accuracy\n",
        "        predicted_masks = (outputs > 0.5).float()\n",
        "        correct += (predicted_masks == masks).sum().item()\n",
        "        total += masks.numel()\n",
        "        \n",
        "        # Print the loss for every few iterations\n",
        "        if (batch_idx+1) % 10 == 0:\n",
        "           accuracy = 100 * correct / total\n",
        "           print(f\"Batch {batch_idx+1}/{len(data_loader)} Loss: {loss.item():.4f} Accuracy: {accuracy:.2f}%\")\n"
      ],
      "metadata": {
        "id": "9l3RNST5Fy8x"
      },
      "execution_count": null,
      "outputs": []
    },
    {
      "cell_type": "markdown",
      "source": [
        "# TESTING"
      ],
      "metadata": {
        "id": "-ek6vuNcjviu"
      }
    },
    {
      "cell_type": "markdown",
      "source": [
        "ONLY STRUCTURE , THIS IS TO BE MODIFIED ALOT"
      ],
      "metadata": {
        "id": "3QncQmjXjnMG"
      }
    },
    {
      "cell_type": "code",
      "source": [
        "import torch\n",
        "import torch.nn.functional as F\n",
        "from sklearn.metrics import confusion_matrix\n",
        "\n",
        "# Assuming test_images, test_bounding_boxes, and test_segmentation_masks are your test input vectors\n",
        "# Assuming model is your trained model\n",
        "\n",
        "# Set the device for computations\n",
        "device = torch.device('cuda' if torch.cuda.is_available() else 'cpu')\n",
        "\n",
        "# Define the batch size\n",
        "batch_size = 256\n",
        "\n",
        "test_images = []\n",
        "test_bounding_boxes = []\n",
        "test_segmentation_masks = []\n",
        "\n",
        "# Convert the test input vectors to PyTorch tensors\n",
        "test_images_tensor = torch.tensor(test_images, dtype=torch.float32).to(device)\n",
        "test_bounding_boxes_tensor = torch.tensor(test_bounding_boxes, dtype=torch.float32).to(device)\n",
        "test_segmentation_masks_tensor = torch.tensor(test_segmentation_masks, dtype=torch.float32).to(device)\n",
        "\n",
        "# Combine the test input tensors into a single dataset\n",
        "test_dataset = torch.utils.data.TensorDataset(test_images_tensor, test_bounding_boxes_tensor, test_segmentation_masks_tensor)\n",
        "\n",
        "# Create a data loader for batching the test data\n",
        "test_data_loader = torch.utils.data.DataLoader(test_dataset, batch_size=batch_size)\n",
        "\n",
        "# Set the model to evaluation mode\n",
        "sam_loaded.eval()\n",
        "\n",
        "# Variables to track accuracy and predictions\n",
        "correct = 0\n",
        "total = 0\n",
        "all_predictions = []\n",
        "all_labels = []\n",
        "\n",
        "# Iterate over the test data loader\n",
        "with torch.no_grad():\n",
        "    for images, bounding_boxes, masks in test_data_loader:\n",
        "        # Transfer the batch tensors to the device\n",
        "        images = images.to(device)\n",
        "        bounding_boxes = bounding_boxes.to(device)\n",
        "        masks = masks.to(device)\n",
        "        \n",
        "        # Forward pass\n",
        "        outputs = sam_loaded(images)\n",
        "        \n",
        "        # Threshold the predicted masks to obtain binary predictions (0 or 1)\n",
        "        predicted_masks = (outputs > 0.5).float()\n",
        "        \n",
        "        # Flatten the predicted masks and ground truth masks\n",
        "        predicted_masks = predicted_masks.view(-1)\n",
        "        masks = masks.view(-1)\n",
        "        \n",
        "        # Calculate accuracy\n",
        "        correct += (predicted_masks == masks).sum().item()\n",
        "        total += masks.numel()\n",
        "        \n",
        "        # Store the predictions and labels for confusion matrix\n",
        "        all_predictions.extend(predicted_masks.cpu().tolist())\n",
        "        all_labels.extend(masks.cpu().tolist())\n",
        "\n",
        "# Calculate accuracy\n",
        "accuracy = 100 * correct / total\n",
        "\n",
        "# Create the confusion matrix\n",
        "confusion_mat = confusion_matrix(all_labels, all_predictions)\n",
        "\n",
        "print(f\"Accuracy: {accuracy:.2f}%\")\n",
        "print(\"Confusion Matrix:\")\n",
        "print(confusion_mat)\n"
      ],
      "metadata": {
        "id": "jecYMwfKjQj0"
      },
      "execution_count": null,
      "outputs": []
    }
  ]
}